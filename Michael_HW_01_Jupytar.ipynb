{
 "cells": [
  {
   "cell_type": "code",
   "execution_count": 57,
   "metadata": {},
   "outputs": [],
   "source": [
    "import pandas as pd\n",
    "import numpy as np\n",
    "import time "
   ]
  },
  {
   "cell_type": "code",
   "execution_count": 3,
   "metadata": {},
   "outputs": [],
   "source": [
    "# __Name:__ \\<Hsin Sheng Ma (Michael)\\>\n",
    "# This is my honmework 1 file\n",
    "#__Date:__ `{Python} using Dates; today(10/2/2024)`"
   ]
  },
  {
   "cell_type": "code",
   "execution_count": 4,
   "metadata": {},
   "outputs": [],
   "source": [
    "#__Question 1:__ Let $X$ be a Uniform(0, 1) random variable and let $Y = X^3 + X^2 + X$. \n",
    "# Write a function that estimates the mean and variance of $Y$ using Monte Carlo simulation.\n",
    "# Your function should take as input the number of simulations to run and return the estimated mean and variance of $Y$."
   ]
  },
  {
   "cell_type": "code",
   "execution_count": 59,
   "metadata": {},
   "outputs": [
    {
     "data": {
      "text/plain": [
       "(np.float64(1.8887740380248257), np.float64(0.9245628058068244))"
      ]
     },
     "execution_count": 59,
     "metadata": {},
     "output_type": "execute_result"
    }
   ],
   "source": [
    "def sim(iteration):\n",
    "\n",
    "    # Define x as a uniform random variable\n",
    "    x = np.random.uniform(0,1, iteration)\n",
    "    # print(\"X is now =\", x)\n",
    "\n",
    "    # Define y as follow\n",
    "    y = x**3 + x**2 + x\n",
    "    # print(\"Y is now =\",y)\n",
    "\n",
    "    # Get the mean and variance of y\n",
    "    mean = np.mean(y)\n",
    "    # print(\"The mean of y is\", mean)\n",
    "\n",
    "    variance = np.var(y)\n",
    "    # print(\"The variance of y is\",variance)\n",
    "\n",
    "    return mean, variance\n",
    "\n",
    "# Run the function\n",
    "sim(2)"
   ]
  },
  {
   "cell_type": "code",
   "execution_count": null,
   "metadata": {},
   "outputs": [],
   "source": [
    "# __Question 2:__ Test the function above with 10,000 simulations. What are the estimated mean and variance of $Y$?"
   ]
  },
  {
   "cell_type": "code",
   "execution_count": 60,
   "metadata": {},
   "outputs": [
    {
     "data": {
      "text/plain": [
       "(np.float64(1.0831892093292488), np.float64(0.7275493815740669))"
      ]
     },
     "execution_count": 60,
     "metadata": {},
     "output_type": "execute_result"
    }
   ],
   "source": [
    "sim(10000)"
   ]
  },
  {
   "cell_type": "code",
   "execution_count": null,
   "metadata": {},
   "outputs": [],
   "source": [
    "# __Question 3:__ Time how long it takes to run the function above with 10,000; 100,000; 1,000,000; and 10,000,000 simulations. \n",
    "# Display a table or data frame with columns corresponding to the number of simulations, \n",
    "# the time it took to run them (in seconds), and the number of simulations per second"
   ]
  },
  {
   "cell_type": "code",
   "execution_count": 118,
   "metadata": {},
   "outputs": [
    {
     "name": "stdout",
     "output_type": "stream",
     "text": [
      "10000 of simulation takes 0.00040640000224811956 seconds with 24606299.07648154 per second\n",
      "100000 of simulation takes 0.0032864999993762467 seconds with 30427506.47162004 per second\n",
      "1000000 of simulation takes 0.031754700001329184 seconds with 31491401.27156428 per second\n",
      "10000000 of simulation takes 0.3054197000019485 seconds with 32741830.340139166 per second\n"
     ]
    },
    {
     "data": {
      "text/html": [
       "<div>\n",
       "<style scoped>\n",
       "    .dataframe tbody tr th:only-of-type {\n",
       "        vertical-align: middle;\n",
       "    }\n",
       "\n",
       "    .dataframe tbody tr th {\n",
       "        vertical-align: top;\n",
       "    }\n",
       "\n",
       "    .dataframe thead th {\n",
       "        text-align: right;\n",
       "    }\n",
       "</style>\n",
       "<table border=\"1\" class=\"dataframe\">\n",
       "  <thead>\n",
       "    <tr style=\"text-align: right;\">\n",
       "      <th></th>\n",
       "      <th>num_iteration</th>\n",
       "      <th>Duration</th>\n",
       "      <th>num_of_sim_per_sec</th>\n",
       "    </tr>\n",
       "  </thead>\n",
       "  <tbody>\n",
       "    <tr>\n",
       "      <th>0</th>\n",
       "      <td>10000</td>\n",
       "      <td>0.000406</td>\n",
       "      <td>2.460630e+07</td>\n",
       "    </tr>\n",
       "    <tr>\n",
       "      <th>1</th>\n",
       "      <td>100000</td>\n",
       "      <td>0.003286</td>\n",
       "      <td>3.042751e+07</td>\n",
       "    </tr>\n",
       "    <tr>\n",
       "      <th>2</th>\n",
       "      <td>1000000</td>\n",
       "      <td>0.031755</td>\n",
       "      <td>3.149140e+07</td>\n",
       "    </tr>\n",
       "    <tr>\n",
       "      <th>3</th>\n",
       "      <td>10000000</td>\n",
       "      <td>0.305420</td>\n",
       "      <td>3.274183e+07</td>\n",
       "    </tr>\n",
       "  </tbody>\n",
       "</table>\n",
       "</div>"
      ],
      "text/plain": [
       "   num_iteration  Duration  num_of_sim_per_sec\n",
       "0          10000  0.000406        2.460630e+07\n",
       "1         100000  0.003286        3.042751e+07\n",
       "2        1000000  0.031755        3.149140e+07\n",
       "3       10000000  0.305420        3.274183e+07"
      ]
     },
     "execution_count": 118,
     "metadata": {},
     "output_type": "execute_result"
    }
   ],
   "source": [
    "# Set an empty dataframe\n",
    "table = []\n",
    "# Set the iteration number\n",
    "iteration_number = [10000, 100000, 1000000, 10000000] \n",
    "\n",
    "for num_iteration in iteration_number:\n",
    "     \n",
    "     # Get the start time\n",
    "     start = time.perf_counter()\n",
    "\n",
    "     # Starts the simulation function\n",
    "     sim(num_iteration)\n",
    "\n",
    "     # Get the end time\n",
    "     end = time.perf_counter()\n",
    "\n",
    "     # Set time to run the simulation = Duration\n",
    "     # and calculate the number of simulations per second\n",
    "     Duration = end - start\n",
    "     num_of_sim_per_sec = num_iteration / Duration\n",
    "     print(f\"{num_iteration} of simulation takes {Duration} seconds with {num_of_sim_per_sec} per second\")\n",
    "\n",
    "     # Append the empty table to the result with corresponded column names\n",
    "     table.append([num_iteration, Duration, num_of_sim_per_sec])\n",
    "\n",
    "result = pd.DataFrame(table, columns=['num_iteration','Duration','num_of_sim_per_sec'])\n",
    "result"
   ]
  }
 ],
 "metadata": {
  "kernelspec": {
   "display_name": "Python 3",
   "language": "python",
   "name": "python3"
  },
  "language_info": {
   "codemirror_mode": {
    "name": "ipython",
    "version": 3
   },
   "file_extension": ".py",
   "mimetype": "text/x-python",
   "name": "python",
   "nbconvert_exporter": "python",
   "pygments_lexer": "ipython3",
   "version": "3.12.5"
  }
 },
 "nbformat": 4,
 "nbformat_minor": 2
}
