{
 "cells": [
  {
   "cell_type": "code",
   "execution_count": null,
   "metadata": {},
   "outputs": [],
   "source": [
    "import pandas as pd\n",
    "import numpy as np\n",
    "import time "
   ]
  },
  {
   "cell_type": "code",
   "execution_count": null,
   "metadata": {},
   "outputs": [],
   "source": [
    "# __Name:__ \\<Hsin Sheng Ma (Michael)\\>\n",
    "# This is my honmework 2 file\n",
    "#__Date:__ `{Python} using Dates; today(10/9/2024)`\n",
    "# This is the first try\n",
    "# Hi this is michaeljsadhjiahdahdjkahdjkahndjkah"
   ]
  },
  {
   "cell_type": "code",
   "execution_count": null,
   "metadata": {},
   "outputs": [],
   "source": [
    "# ## Task 1 - NRI Data Cleaning\n",
    "\n",
    "# __1. Import the NRI data. Ensure that the [FIPS code](https://en.wikipedia.org/wiki/Federal_Information_Processing_Standard_state_code) \\\n",
    "#     variable ('STCOFIPS') is correctly identified as a string / character variable. Otherwise, the leading zeros will be removed.__\n"
   ]
  }
 ],
 "metadata": {
  "kernelspec": {
   "display_name": "Python 3",
   "language": "python",
   "name": "python3"
  },
  "language_info": {
   "name": "python",
   "version": "3.12.5"
  }
 },
 "nbformat": 4,
 "nbformat_minor": 2
}
