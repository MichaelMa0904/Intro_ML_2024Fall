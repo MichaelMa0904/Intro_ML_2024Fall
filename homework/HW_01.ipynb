{
 "cells": [
  {
   "cell_type": "code",
   "execution_count": 10,
   "metadata": {},
   "outputs": [],
   "source": [
    "import pandas as pd\n",
    "import numpy as np\n",
    "import time "
   ]
  },
  {
   "cell_type": "code",
   "execution_count": 11,
   "metadata": {},
   "outputs": [],
   "source": [
    "# __Name:__ \\<Hsin Sheng Ma (Michael)\\>\n",
    "# This is my homework 1 file submission\n",
    "#__Date:__ `{Python} using Dates; today(10/2/2024)`"
   ]
  },
  {
   "cell_type": "code",
   "execution_count": 12,
   "metadata": {},
   "outputs": [],
   "source": [
    "#__Question 1:__ Let $X$ be a Uniform(0, 1) random variable and let $Y = X^3 + X^2 + X$. \n",
    "# Write a function that estimates the mean and variance of $Y$ using Monte Carlo simulation.\n",
    "# Your function should take as input the number of simulations to run and return the estimated mean and variance of $Y$."
   ]
  },
  {
   "cell_type": "code",
   "execution_count": null,
   "metadata": {},
   "outputs": [],
   "source": [
    "def sim(iteration):\n",
    "\n",
    "    # Define x as a uniform random variable\n",
    "    x = np.random.uniform(0,1, iteration)\n",
    "    # print(\"X is now =\", x)\n",
    "\n",
    "    # Define y as follow\n",
    "    y = x**3 + x**2 + x\n",
    "    # print(\"Y is now =\",y)\n",
    "\n",
    "    # Get the mean and variance of y\n",
    "    mean = np.mean(y)\n",
    "    # print(\"The mean of y is\", mean)\n",
    "\n",
    "    variance = np.var(y)\n",
    "    # print(\"The variance of y is\",variance)\n",
    "\n",
    "    return mean, variance\n",
    "\n",
    "# Run the function\n",
    "sim(2)"
   ]
  },
  {
   "cell_type": "code",
   "execution_count": 14,
   "metadata": {},
   "outputs": [],
   "source": [
    "# __Question 2:__ Test the function above with 10,000 simulations. What are the estimated mean and variance of $Y$?"
   ]
  },
  {
   "cell_type": "code",
   "execution_count": null,
   "metadata": {},
   "outputs": [],
   "source": [
    "sim(10000)"
   ]
  },
  {
   "cell_type": "code",
   "execution_count": 16,
   "metadata": {},
   "outputs": [],
   "source": [
    "# __Question 3:__ Time how long it takes to run the function above with 10,000; 100,000; 1,000,000; and 10,000,000 simulations. \n",
    "# Display a table or data frame with columns corresponding to the number of simulations, \n",
    "# the time it took to run them (in seconds), and the number of simulations per second"
   ]
  },
  {
   "cell_type": "code",
   "execution_count": null,
   "metadata": {},
   "outputs": [],
   "source": [
    "# Set an empty dataframe\n",
    "table = []\n",
    "# Set the iteration number\n",
    "iteration_number = [10000, 100000, 1000000, 10000000] \n",
    "\n",
    "for num_iteration in iteration_number:\n",
    "     \n",
    "     # Get the start time\n",
    "     start = time.perf_counter()\n",
    "\n",
    "     # Starts the simulation function\n",
    "     sim(num_iteration)\n",
    "\n",
    "     # Get the end time\n",
    "     end = time.perf_counter()\n",
    "\n",
    "     # Set time to run the simulation = Duration\n",
    "     # and calculate the number of simulations per second\n",
    "     Duration = end - start\n",
    "     num_of_sim_per_sec = num_iteration / Duration\n",
    "     print(f\"{num_iteration} of simulation takes {Duration} seconds with {num_of_sim_per_sec} per second\")\n",
    "\n",
    "     # Append the empty table to the result with corresponded column names\n",
    "     table.append([num_iteration, Duration, num_of_sim_per_sec])\n",
    "\n",
    "result = pd.DataFrame(table, columns=['num_iteration','Duration','num_of_sim_per_sec'])\n",
    "result"
   ]
  },
  {
   "cell_type": "code",
   "execution_count": 18,
   "metadata": {},
   "outputs": [],
   "source": [
    "from nbconvert import HTMLExporter\n",
    "import nbformat\n",
    "\n",
    "# Load the uploaded Jupyter notebook file\n",
    "notebook_filename = \"C:/users/hma/code/Michael_Homework/Intro_ML_2024Fall/homework/HW_01.ipynb\"\n",
    "\n",
    "# Read the notebook content\n",
    "with open(notebook_filename, \"r\", encoding=\"utf-8\") as f:\n",
    "    notebook_content = nbformat.read(f, as_version=4)\n",
    "\n",
    "# # Create an HTML exporter\n",
    "html_exporter = HTMLExporter()\n",
    "html_exporter.exclude_input = False  # Include code inputs in the exported HTML\n",
    "\n",
    "# Export the notebook to HTML format\n",
    "(body, resources) = html_exporter.from_notebook_node(notebook_content)\n",
    "\n",
    "# Define the output HTML filename\n",
    "output_html_filename = \"HW_01.html\"\n",
    "\n",
    "# Save the HTML output to a file\n",
    "with open(output_html_filename, \"w\", encoding=\"utf-8\") as f:\n",
    "    f.write(body)\n"
   ]
  }
 ],
 "metadata": {
  "kernelspec": {
   "display_name": "Python 3",
   "language": "python",
   "name": "python3"
  },
  "language_info": {
   "codemirror_mode": {
    "name": "ipython",
    "version": 3
   },
   "file_extension": ".py",
   "mimetype": "text/x-python",
   "name": "python",
   "nbconvert_exporter": "python",
   "pygments_lexer": "ipython3",
   "version": "3.12.5"
  }
 },
 "nbformat": 4,
 "nbformat_minor": 2
}
