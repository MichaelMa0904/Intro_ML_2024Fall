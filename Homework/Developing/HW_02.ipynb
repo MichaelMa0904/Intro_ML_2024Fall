{
 "cells": [
  {
   "cell_type": "code",
   "execution_count": null,
   "metadata": {},
   "outputs": [],
   "source": [
    "import pandas as pd\n",
    "import numpy as np\n",
    "import time "
   ]
  },
  {
   "cell_type": "code",
   "execution_count": null,
   "metadata": {},
   "outputs": [],
   "source": [
    "# __Name:__ \\<Hsin Sheng Ma (Michael)\\>\n",
    "# This is my honmework 2 file\n",
    "#__Date:__ `{Python} using Dates; today(10/9/2024)`\n",
    "# This is the first try"
   ]
  },
  {
   "cell_type": "code",
   "execution_count": null,
   "metadata": {},
   "outputs": [],
   "source": [
    "# ## Task 1 - NRI Data Cleaning\n",
    "\n",
    "# __1. Import the NRI data. Ensure that the [FIPS code](https://en.wikipedia.org/wiki/Federal_Information_Processing_Standard_state_code) \\\n",
    "#     variable ('STCOFIPS') is correctly identified as a string / character variable. Otherwise, the leading zeros will be removed.__\n",
    "\n",
    "\n",
    "\n",
    "# __2. Subset the NRI data to include only the 5-digit state/county FIPS code and all colums ending with '\\_AFREQ' and '\\_RISKR'. \n",
    "# Each of these columns represents a different hazard type.__\n",
    "\n",
    "\n",
    "# __3. Create a table / dataframe that, for each hazard type, shows the number of missing values in the '\\_AFREQ' and '\\_RISKR' columns.__\n",
    "\n",
    "\n",
    "# __4. Show the cross-tabulation of the 'AVLN_AFREQ' and 'AVLN_RISKR' columns (including missing values). What do you observe?__\n",
    "\n",
    "\n",
    "# __5. Assuming that a risk that is \"not applicable\" to a county has an annualized frequency of 0, \n",
    "# impute the relevant missing values in the '\\_AFREQ' columns with 0.__\n",
    "\n"
   ]
  }
 ],
 "metadata": {
  "kernelspec": {
   "display_name": "Python 3",
   "language": "python",
   "name": "python3"
  },
  "language_info": {
   "name": "python",
   "version": "3.12.5"
  }
 },
 "nbformat": 4,
 "nbformat_minor": 2
}
